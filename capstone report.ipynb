{
 "cells": [
  {
   "cell_type": "markdown",
   "metadata": {},
   "source": [
    "\n",
    "\n",
    "I. Description of the Project:\n",
    "1. Introduction:\n",
    "Whoever has come to Lisbon will be enchanted by her beauty and atmosphere, with vibrant life, never-ending to-do list and by the expertly-planned transport system which can take you everywhere in the city. Lisbon is famous worldwide as warm place, the best gastronomy and \"tourist must go to\" city in Europe. No wonder the real estate market is becoming one of the priciest. It's where penthouses at the Principe Real, just steps from the Cais do Sodré, is sold for more than 2 millions. But that is just an outlier example. A quick search can show us the real estate price can vary by a large margin from neighbourhoods to neighbourhoods. For example, a 2-bedrooms condo in Parque das Nações, can cost 700 thounsands on average; while in Odivelas, just 20 minutes aways, it's only $150 thousands and Moscavide is only 5 minutes cost less than 400 thounsands. So what aspects of a neighbourhood that can affect the price of real estates to such extend? One hypothesis is that the surrounding venues can be a decision factor. Surely anyone, who has attempted to find an accommodation for rent or buy, has seen advertisements such as: This condo is located near the subway station, malls, supermarkets, dinners, etc. And it's likely that the price will be higher than others with locations not as \"convenient\". Can the venues surrounding an accommodation affect market value? And what kind of venues can affect the most? And by what weight? And can we find a gold mine (a cheap place with good location)?\n",
    "\n",
    "2. The question to solve:\n",
    "This project will try to explore the neighbourhoods of Lisbon city to see: if the surrounding venues can affect the price of real estates? what kind of surrounding venues, and to what extent, can affect the price? if we can use the surrounding venue to estimate the value of an accommodation over the average price of one area? And to what degree of confidence? The result can be useful for home buyers, who can roughly estimate the value of a target house over the average. Or to planners, who can decide which venues to place around their product, so that the price is maximized.\n",
    "\n",
    "II. Description of the data:\n",
    "The main data used for this project will be from two sources: The average price by neighborhoods in Lisbon. (CityRealty) The venues in each neighborhood. (FourSquare API) Other supporting data:\n",
    "\n",
    "1. Data collection process:\n",
    "The average price will be scrapped from the Kaggle website, It was chosen Airbnb Lisbon 2017 as dataset to work on. For each neighbourhood, call Geocoder Python to get its coordinate. For each neighbourhood’s coordinate, call FourSquare API to get the surrounding venues. Count the occurrences of each venue type and attach that information to each neighbourhood. Each row represents a neighbourhood. Each column will be the count of one type of venue in that neighbourhood.\n",
    "\n",
    "2. Using data to solve the question:\n",
    "First, correlation between price and surrounding venues will be checked. Second, if correlated, machine learning techniques will be used to analyse the data. The output will be a list of venues types that effect the most on price, along with their weight on the result. It will be done different graphics to understand which feature has more influence in the price and it will transpose the data in the map to have better visualization how the airbnb rooms are spread in Lisbon."
   ]
  },
  {
   "cell_type": "code",
   "execution_count": null,
   "metadata": {},
   "outputs": [],
   "source": []
  }
 ],
 "metadata": {
  "kernelspec": {
   "display_name": "Python 3",
   "language": "python",
   "name": "python3"
  },
  "language_info": {
   "codemirror_mode": {
    "name": "ipython",
    "version": 3
   },
   "file_extension": ".py",
   "mimetype": "text/x-python",
   "name": "python",
   "nbconvert_exporter": "python",
   "pygments_lexer": "ipython3",
   "version": "3.7.4"
  }
 },
 "nbformat": 4,
 "nbformat_minor": 2
}
